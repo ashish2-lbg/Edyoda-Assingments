{
 "cells": [
  {
   "cell_type": "code",
   "execution_count": null,
   "id": "1cc53e70",
   "metadata": {},
   "outputs": [],
   "source": [
    "#  1.Count the number of Salesperson whose name begin with ‘a’/’A’.\n",
    "\n",
    "SELECT COUNT(*) \n",
    "FROM SalesPeople\n",
    "WHERE NAME LIKE 'A%','a'%;"
   ]
  },
  {
   "cell_type": "code",
   "execution_count": null,
   "id": "c8745eb3",
   "metadata": {},
   "outputs": [],
   "source": [
    "# 2.Display all the Salesperson whose all orders worth is more than Rs. 2000.\n",
    "\n",
    "SELECT *\n",
    "  FROM SalesPeople\n",
    "  WHERE order.Onum > 2000;"
   ]
  },
  {
   "cell_type": "code",
   "execution_count": null,
   "id": "61afc2d6",
   "metadata": {},
   "outputs": [],
   "source": [
    "# 3.Count the number of Salesperson belonging to Newyork.\n",
    "\n",
    "SELECT *\n",
    "  FROM SalesPeople\n",
    "  WHERE City = \"Newyork\";"
   ]
  },
  {
   "cell_type": "code",
   "execution_count": null,
   "id": "4a9f3464",
   "metadata": {},
   "outputs": [],
   "source": [
    "# 4.Display the number of Salespeople belonging to London and belonging to Paris\n",
    "\n",
    "SELECT *\n",
    "  FROM SalesPeople\n",
    "  WHERE City = \"Newyork\" or City=\"Paris\";"
   ]
  },
  {
   "cell_type": "code",
   "execution_count": null,
   "id": "0d6f422b",
   "metadata": {},
   "outputs": [],
   "source": [
    "# 5.Display the number of orders taken by each Salesperson and their date of orders.\n",
    "\n",
    "SELECT *\n",
    "  FROM orders;"
   ]
  }
 ],
 "metadata": {
  "kernelspec": {
   "display_name": "Python 3",
   "language": "python",
   "name": "python3"
  },
  "language_info": {
   "codemirror_mode": {
    "name": "ipython",
    "version": 3
   },
   "file_extension": ".py",
   "mimetype": "text/x-python",
   "name": "python",
   "nbconvert_exporter": "python",
   "pygments_lexer": "ipython3",
   "version": "3.8.8"
  }
 },
 "nbformat": 4,
 "nbformat_minor": 5
}
