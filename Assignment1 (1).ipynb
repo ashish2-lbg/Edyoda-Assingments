{
 "cells": [
  {
   "cell_type": "code",
   "execution_count": 5,
   "id": "028b59eb",
   "metadata": {},
   "outputs": [
    {
     "name": "stdout",
     "output_type": "stream",
     "text": [
      "1\n",
      "1\n",
      "2\n",
      "3\n",
      "5\n",
      "8\n",
      "13\n",
      "21\n",
      "34\n"
     ]
    }
   ],
   "source": [
    "#Write a Python program to get the Fibonacci series between 0 to 50\n",
    "a,b=0,1\n",
    "while b<50:\n",
    "    print(b)\n",
    "    a,b = b,a+b"
   ]
  },
  {
   "cell_type": "code",
   "execution_count": 1,
   "id": "d506e586",
   "metadata": {},
   "outputs": [
    {
     "name": "stdout",
     "output_type": "stream",
     "text": [
      "Enter your name: Ashish Tripathi\n",
      "ihtapirT hsihsA\n",
      "\n"
     ]
    }
   ],
   "source": [
    "#Write a Python program that accepts a word from the user and reverse it.\n",
    "x = input(\"Enter your name: \")\n",
    "for i in range(len(x) -1,-1,-1):\n",
    "    print(x[i], end=\"\")\n",
    "print(\"\\n\")\n"
   ]
  },
  {
   "cell_type": "code",
   "execution_count": 9,
   "id": "c5cc7e2b",
   "metadata": {},
   "outputs": [
    {
     "name": "stdout",
     "output_type": "stream",
     "text": [
      "Even numbers are: 10\n",
      "Odd numbers are: 10\n"
     ]
    }
   ],
   "source": [
    "#Write a Python program to count the number of even and odd numbers from a series of numbers.\n",
    "numbers = (1,2,3,4,5,6,7,8,9,10,11,12,13,14,15,16,17,18,19,20)\n",
    "odd=0\n",
    "even=0\n",
    "for i in numbers:\n",
    "        if not i % 2:\n",
    "             even+=1\n",
    "        else:\n",
    "             odd+=1\n",
    "print(\"Even numbers are:\",even)\n",
    "print(\"Odd numbers are:\",odd)"
   ]
  },
  {
   "cell_type": "code",
   "execution_count": null,
   "id": "8ef6c0e1",
   "metadata": {},
   "outputs": [],
   "source": []
  }
 ],
 "metadata": {
  "kernelspec": {
   "display_name": "Python 3 (ipykernel)",
   "language": "python",
   "name": "python3"
  },
  "language_info": {
   "codemirror_mode": {
    "name": "ipython",
    "version": 3
   },
   "file_extension": ".py",
   "mimetype": "text/x-python",
   "name": "python",
   "nbconvert_exporter": "python",
   "pygments_lexer": "ipython3",
   "version": "3.10.6"
  }
 },
 "nbformat": 4,
 "nbformat_minor": 5
}
