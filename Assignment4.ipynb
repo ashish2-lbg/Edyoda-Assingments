{
 "cells": [
  {
   "cell_type": "code",
   "execution_count": 6,
   "id": "b31354c4",
   "metadata": {},
   "outputs": [
    {
     "name": "stdout",
     "output_type": "stream",
     "text": [
      "Enter the number : 10\n",
      "25\n"
     ]
    }
   ],
   "source": [
    "#Write a Python program to create a lambda function that adds 25 to a given number passed in as an argument.\n",
    "\n",
    "number = lambda x : x + 15\n",
    "print(number (int (input(\"Enter the number : \",))))"
   ]
  },
  {
   "cell_type": "code",
   "execution_count": 5,
   "id": "75854ae3",
   "metadata": {},
   "outputs": [
    {
     "name": "stdout",
     "output_type": "stream",
     "text": [
      "Triple of list numbers: [3, 6, 9, 12, 15, 18, 21]\n"
     ]
    }
   ],
   "source": [
    "#Write a Python program to triple all numbers of a given list of integers. Use Python map.\n",
    "\n",
    "Numbers=[1,2,3,4,5,6,7]\n",
    "X= list(map(lambda x : x*3 , Numbers)) \n",
    "print(\"Triple of list numbers:\",X)"
   ]
  },
  {
   "cell_type": "code",
   "execution_count": 8,
   "id": "30e72ae0",
   "metadata": {},
   "outputs": [
    {
     "name": "stdout",
     "output_type": "stream",
     "text": [
      "Square the elements of the list: [16, 25, 4, 81]\n"
     ]
    }
   ],
   "source": [
    "#Write a Python program to square the elements of a list using map() function.\n",
    "\n",
    "Numbers=[4,5,2,9]\n",
    "X= list(map(lambda x : x**2 , Numbers)) \n",
    "print(\"Square the elements of the list:\",X)"
   ]
  }
 ],
 "metadata": {
  "kernelspec": {
   "display_name": "Python 3 (ipykernel)",
   "language": "python",
   "name": "python3"
  },
  "language_info": {
   "codemirror_mode": {
    "name": "ipython",
    "version": 3
   },
   "file_extension": ".py",
   "mimetype": "text/x-python",
   "name": "python",
   "nbconvert_exporter": "python",
   "pygments_lexer": "ipython3",
   "version": "3.9.12"
  }
 },
 "nbformat": 4,
 "nbformat_minor": 5
}
