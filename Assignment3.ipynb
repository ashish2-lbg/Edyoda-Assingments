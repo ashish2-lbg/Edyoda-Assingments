{
 "cells": [
  {
   "cell_type": "code",
   "execution_count": 1,
   "id": "bb9e3964",
   "metadata": {},
   "outputs": [
    {
     "name": "stdout",
     "output_type": "stream",
     "text": [
      "20\n"
     ]
    }
   ],
   "source": [
    "def sum(x):\n",
    "    addition = 0\n",
    "    for i in x:\n",
    "        addition += i\n",
    "    return addition\n",
    "print(sum((8, 2, 3, 0, 7)))"
   ]
  },
  {
   "cell_type": "code",
   "execution_count": 3,
   "id": "87921f44",
   "metadata": {},
   "outputs": [
    {
     "name": "stdout",
     "output_type": "stream",
     "text": [
      "The original string is : 1234abcd\n",
      "1234abcd\n",
      "The reversed string is : \n",
      "dcba4321\n"
     ]
    }
   ],
   "source": [
    "def reverse(b):\n",
    "    b = b[::-1]\n",
    "    return b\n",
    "s=input(\"The original string is : \", )\n",
    "print(s)\n",
    "print(\"The reversed string is : \", )\n",
    "print(reverse(s))"
   ]
  },
  {
   "cell_type": "code",
   "execution_count": 6,
   "id": "50563b22",
   "metadata": {},
   "outputs": [
    {
     "name": "stdout",
     "output_type": "stream",
     "text": [
      "Enter the Sample string:- The quick Brow Fox\n",
      "No. of Upper case characters : 3\n",
      "No. of Lower case Characters : 12\n"
     ]
    }
   ],
   "source": [
    "x=input(\"Enter the Sample string:- \")\n",
    "def char(x):\n",
    "  u=0\n",
    "  l=0\n",
    "  for i in x:\n",
    "      if i>='a' and i<='z':\n",
    "       l+=1\n",
    "      if i >='A' and i<='Z':\n",
    "       u+=1\n",
    "  print(\"No. of Upper case characters :\",u)\n",
    "  print(\"No. of Lower case Characters :\",l)\n",
    "char(x)"
   ]
  },
  {
   "cell_type": "code",
   "execution_count": null,
   "id": "0cc594fb",
   "metadata": {},
   "outputs": [],
   "source": []
  }
 ],
 "metadata": {
  "kernelspec": {
   "display_name": "Python 3 (ipykernel)",
   "language": "python",
   "name": "python3"
  },
  "language_info": {
   "codemirror_mode": {
    "name": "ipython",
    "version": 3
   },
   "file_extension": ".py",
   "mimetype": "text/x-python",
   "name": "python",
   "nbconvert_exporter": "python",
   "pygments_lexer": "ipython3",
   "version": "3.9.12"
  }
 },
 "nbformat": 4,
 "nbformat_minor": 5
}
